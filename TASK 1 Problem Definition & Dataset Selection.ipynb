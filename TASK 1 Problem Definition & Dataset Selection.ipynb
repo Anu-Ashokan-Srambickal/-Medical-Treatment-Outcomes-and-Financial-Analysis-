{
 "cells": [
  {
   "cell_type": "markdown",
   "id": "d618c5eb-03f3-4c1d-9e43-040473433fc4",
   "metadata": {},
   "source": [
    "#                                                 \"Medical Treatment Outcomes and Financial Analysis\""
   ]
  },
  {
   "cell_type": "markdown",
   "id": "a6c2215f-3a8b-4771-8a4c-90e4dd911861",
   "metadata": {},
   "source": [
    "### 📍 TASK 1 : Problem Definition & Dataset Selection.\n",
    "#####      Clear problem statement, relevant domain, quality dataset (size, source, variety)"
   ]
  },
  {
   "cell_type": "markdown",
   "id": "d3f6a59d-0969-4fdb-aa53-aecaac5a13cd",
   "metadata": {},
   "source": [
    "### 🔍 Overview of Healthcare Dataset"
   ]
  },
  {
   "cell_type": "markdown",
   "id": "857769af-5f9c-4172-96f7-e9c92ccedd41",
   "metadata": {},
   "source": [
    " * Health care data set consists of 55500 rows × 15 columns, with unique values.\n",
    " * The dataset contains detailed patient hospitalization records, including name, age ,gender etc.\n",
    " * The patient records provided span five years, from 2019 to 2024, which include their admission type and associated medical expenses.\n",
    " * It also provides details about the insurance providers,doctors attended and hospitals involved in the treatment,with their respective room number.\n",
    " * Details of patient diagonosis including blood type, medical conditions can be also seen in this report.\n",
    " * Disease management incldes Medication and evaluvating the outcome with its test results.\n",
    "  \n",
    "  "
   ]
  },
  {
   "cell_type": "markdown",
   "id": "42bb7dc9-e679-4269-9896-023108dd3c9d",
   "metadata": {},
   "source": [
    "###  📚 DATA DESCRIPTION OF HEALTHCARE DATASET\n"
   ]
  },
  {
   "cell_type": "markdown",
   "id": "1e174392-e9db-40cc-a8b8-4abb7c157124",
   "metadata": {},
   "source": [
    "| Variable           | Description                                                  |\n",
    "|--------------------|--------------------------------------------------------------|\n",
    "| Name               | Name of the patients  [Unique  Identifier]                                         |\n",
    "| Age                | Age of the patients in years                                  |\n",
    "| Gender             | Gender of the patients (2 unique values: Male and Female) |\n",
    "| Blood Type         | Blood type of the patient (8 unique values : B-, A+, A-, O+,AB+,AB-,B+, O-)              |\n",
    "| Medical Condition  | Disease condition (6 unique values : Cancer, Obesity, Diabetes, Asthma, Hypertension, Arthritis)   |\n",
    "| Date of Admission  | Hospital admission date                                       |\n",
    "| Doctor             | Doctors attending the patients                                |\n",
    "| Hospital           | Hospital in which patients are treated                        |\n",
    "| Insurance Provider | Insurance provider (5 unique values : Blue Cross, Medicare, Aetna, United Healthcare, Cigna)                     |\n",
    "| Billing Amount     | Billing amount of the patient (decimal format)                |\n",
    "| Room Number        | Room number of patients stayed                                |\n",
    "| Admission Type     | Admission type of patient (3 unique values : Urgent, Emergency, Elective)                          |\n",
    "| Discharge Date     | Discharge date of the patients                                |\n",
    "| Medication         | Antibiotics administered to patient (5 unique values : Paracetamol, Ibuprofen, Aspirin, Penicillin, Lipitor)                  |\n",
    "| Test Results       | Outcome of Medication (3 unique values : Normal, Inconclusive, Abnormal)                           |"
   ]
  },
  {
   "cell_type": "markdown",
   "id": "a847a664-a6b5-45e4-8047-843d737bbeb7",
   "metadata": {},
   "source": [
    "### 📌 Objective "
   ]
  },
  {
   "cell_type": "markdown",
   "id": "dbfdb221-8b97-4dc9-b753-23080b9d63c4",
   "metadata": {},
   "source": [
    "1. Data Loading and Initial Overview\n",
    "   * Import the dataset using Pandas and provide an overview:\n",
    "      * Number of rows and columns\n",
    "      * Data types of each column\n",
    "      * Initial observations (e.g., head(), info(), describe())\n",
    "2. Data Pre-processing\n",
    "   * Perform all necessary cleaning steps such as:\n",
    "      * Handling missing values\n",
    "      * Removing duplicates\n",
    "      * Correcting data types\n",
    "      * Creating derived columns\n",
    "      * Filtering or aggregating data\n",
    "3. Exploratory Data Analysis (EDA)\n",
    "   * Conduct descriptive and exploratory analysis to uncover patterns and trends:\n",
    "      * Univariate, bivariate, and multivariate analysis\n",
    "      * Use groupby, pivot tables, and correlation analysis\n",
    "      * Include statistical summaries to support findings\n",
    "4. Visualizations\n",
    "   * Use Matplotlib / Seaborn / Plotly to generate meaningful visualizations:\n",
    "      * Bar plots, line charts, pie charts, histograms, box plots, scatter plots, heatmaps, etc\n",
    "      * Ensure visuals should have proper titles, labels, legends, and color schemes\n",
    "      * Use subplots where applicable for better layout\n",
    "5. Insight Generation and Report\n",
    "   * Summarize key insights from your analysis:\n",
    "      * Use Markdown cells throughout the notebook to clearly explain the logic, methods, and interpretation of results\n",
    "      * Highlight significant patterns, correlations, or anomalies found in the data\n",
    "      * Conclude with a short summary of your overall findings and any potential recommendations or next steps "
   ]
  },
  {
   "cell_type": "markdown",
   "id": "1bc39bcd-72c9-45e2-8e2e-4a241a509aaa",
   "metadata": {},
   "source": [
    "### 💡 Possible Key Insights About The Healthcare Dataset Over Five Years!!\n"
   ]
  },
  {
   "cell_type": "markdown",
   "id": "d77237aa-185a-4504-93ef-34ec696d801b",
   "metadata": {},
   "source": [
    "* We can study the patterns about  medication and its outcome.\n",
    "* Is there any relationship between blood type, gender and medical condition.\n",
    "* Length of the stay and billing and treatment outcomes.\n",
    "* Insurance provider and medical expense based on demography.\n",
    "* Billing amount and its link with hospital and doctor."
   ]
  },
  {
   "cell_type": "markdown",
   "id": "a805ba81-5634-4688-af58-280fa798d5c1",
   "metadata": {},
   "source": [
    "### 1️⃣ : Importing Libraries"
   ]
  },
  {
   "cell_type": "code",
   "execution_count": 102,
   "id": "0f74d64e-843f-45ec-bb29-a3468be1a30a",
   "metadata": {},
   "outputs": [],
   "source": [
    "import numpy as np\n",
    "import pandas as pd\n",
    "import matplotlib.pyplot as plt\n",
    "import seaborn as sns"
   ]
  },
  {
   "cell_type": "markdown",
   "id": "273172c2-2687-40e5-bce6-bf6b4895688a",
   "metadata": {},
   "source": [
    "### 2️⃣ : Reading The Dataset"
   ]
  },
  {
   "cell_type": "code",
   "execution_count": 5,
   "id": "1a82bf64-4821-4ef9-bf36-b0fd0be6deb6",
   "metadata": {},
   "outputs": [
    {
     "data": {
      "text/html": [
       "<div>\n",
       "<style scoped>\n",
       "    .dataframe tbody tr th:only-of-type {\n",
       "        vertical-align: middle;\n",
       "    }\n",
       "\n",
       "    .dataframe tbody tr th {\n",
       "        vertical-align: top;\n",
       "    }\n",
       "\n",
       "    .dataframe thead th {\n",
       "        text-align: right;\n",
       "    }\n",
       "</style>\n",
       "<table border=\"1\" class=\"dataframe\">\n",
       "  <thead>\n",
       "    <tr style=\"text-align: right;\">\n",
       "      <th></th>\n",
       "      <th>Name</th>\n",
       "      <th>Age</th>\n",
       "      <th>Gender</th>\n",
       "      <th>Blood Type</th>\n",
       "      <th>Medical Condition</th>\n",
       "      <th>Date of Admission</th>\n",
       "      <th>Doctor</th>\n",
       "      <th>Hospital</th>\n",
       "      <th>Insurance Provider</th>\n",
       "      <th>Billing Amount</th>\n",
       "      <th>Room Number</th>\n",
       "      <th>Admission Type</th>\n",
       "      <th>Discharge Date</th>\n",
       "      <th>Medication</th>\n",
       "      <th>Test Results</th>\n",
       "    </tr>\n",
       "  </thead>\n",
       "  <tbody>\n",
       "    <tr>\n",
       "      <th>0</th>\n",
       "      <td>Bobby JacksOn</td>\n",
       "      <td>30</td>\n",
       "      <td>Male</td>\n",
       "      <td>B-</td>\n",
       "      <td>Cancer</td>\n",
       "      <td>2024-01-31</td>\n",
       "      <td>Matthew Smith</td>\n",
       "      <td>Sons and Miller</td>\n",
       "      <td>Blue Cross</td>\n",
       "      <td>18856.281306</td>\n",
       "      <td>328</td>\n",
       "      <td>Urgent</td>\n",
       "      <td>2024-02-02</td>\n",
       "      <td>Paracetamol</td>\n",
       "      <td>Normal</td>\n",
       "    </tr>\n",
       "    <tr>\n",
       "      <th>1</th>\n",
       "      <td>LesLie TErRy</td>\n",
       "      <td>62</td>\n",
       "      <td>Male</td>\n",
       "      <td>A+</td>\n",
       "      <td>Obesity</td>\n",
       "      <td>2019-08-20</td>\n",
       "      <td>Samantha Davies</td>\n",
       "      <td>Kim Inc</td>\n",
       "      <td>Medicare</td>\n",
       "      <td>33643.327287</td>\n",
       "      <td>265</td>\n",
       "      <td>Emergency</td>\n",
       "      <td>2019-08-26</td>\n",
       "      <td>Ibuprofen</td>\n",
       "      <td>Inconclusive</td>\n",
       "    </tr>\n",
       "    <tr>\n",
       "      <th>2</th>\n",
       "      <td>DaNnY sMitH</td>\n",
       "      <td>76</td>\n",
       "      <td>Female</td>\n",
       "      <td>A-</td>\n",
       "      <td>Obesity</td>\n",
       "      <td>2022-09-22</td>\n",
       "      <td>Tiffany Mitchell</td>\n",
       "      <td>Cook PLC</td>\n",
       "      <td>Aetna</td>\n",
       "      <td>27955.096079</td>\n",
       "      <td>205</td>\n",
       "      <td>Emergency</td>\n",
       "      <td>2022-10-07</td>\n",
       "      <td>Aspirin</td>\n",
       "      <td>Normal</td>\n",
       "    </tr>\n",
       "    <tr>\n",
       "      <th>3</th>\n",
       "      <td>andrEw waTtS</td>\n",
       "      <td>28</td>\n",
       "      <td>Female</td>\n",
       "      <td>O+</td>\n",
       "      <td>Diabetes</td>\n",
       "      <td>2020-11-18</td>\n",
       "      <td>Kevin Wells</td>\n",
       "      <td>Hernandez Rogers and Vang,</td>\n",
       "      <td>Medicare</td>\n",
       "      <td>37909.782410</td>\n",
       "      <td>450</td>\n",
       "      <td>Elective</td>\n",
       "      <td>2020-12-18</td>\n",
       "      <td>Ibuprofen</td>\n",
       "      <td>Abnormal</td>\n",
       "    </tr>\n",
       "    <tr>\n",
       "      <th>4</th>\n",
       "      <td>adrIENNE bEll</td>\n",
       "      <td>43</td>\n",
       "      <td>Female</td>\n",
       "      <td>AB+</td>\n",
       "      <td>Cancer</td>\n",
       "      <td>2022-09-19</td>\n",
       "      <td>Kathleen Hanna</td>\n",
       "      <td>White-White</td>\n",
       "      <td>Aetna</td>\n",
       "      <td>14238.317814</td>\n",
       "      <td>458</td>\n",
       "      <td>Urgent</td>\n",
       "      <td>2022-10-09</td>\n",
       "      <td>Penicillin</td>\n",
       "      <td>Abnormal</td>\n",
       "    </tr>\n",
       "    <tr>\n",
       "      <th>...</th>\n",
       "      <td>...</td>\n",
       "      <td>...</td>\n",
       "      <td>...</td>\n",
       "      <td>...</td>\n",
       "      <td>...</td>\n",
       "      <td>...</td>\n",
       "      <td>...</td>\n",
       "      <td>...</td>\n",
       "      <td>...</td>\n",
       "      <td>...</td>\n",
       "      <td>...</td>\n",
       "      <td>...</td>\n",
       "      <td>...</td>\n",
       "      <td>...</td>\n",
       "      <td>...</td>\n",
       "    </tr>\n",
       "    <tr>\n",
       "      <th>55495</th>\n",
       "      <td>eLIZABeTH jaCkSOn</td>\n",
       "      <td>42</td>\n",
       "      <td>Female</td>\n",
       "      <td>O+</td>\n",
       "      <td>Asthma</td>\n",
       "      <td>2020-08-16</td>\n",
       "      <td>Joshua Jarvis</td>\n",
       "      <td>Jones-Thompson</td>\n",
       "      <td>Blue Cross</td>\n",
       "      <td>2650.714952</td>\n",
       "      <td>417</td>\n",
       "      <td>Elective</td>\n",
       "      <td>2020-09-15</td>\n",
       "      <td>Penicillin</td>\n",
       "      <td>Abnormal</td>\n",
       "    </tr>\n",
       "    <tr>\n",
       "      <th>55496</th>\n",
       "      <td>KYle pEREz</td>\n",
       "      <td>61</td>\n",
       "      <td>Female</td>\n",
       "      <td>AB-</td>\n",
       "      <td>Obesity</td>\n",
       "      <td>2020-01-23</td>\n",
       "      <td>Taylor Sullivan</td>\n",
       "      <td>Tucker-Moyer</td>\n",
       "      <td>Cigna</td>\n",
       "      <td>31457.797307</td>\n",
       "      <td>316</td>\n",
       "      <td>Elective</td>\n",
       "      <td>2020-02-01</td>\n",
       "      <td>Aspirin</td>\n",
       "      <td>Normal</td>\n",
       "    </tr>\n",
       "    <tr>\n",
       "      <th>55497</th>\n",
       "      <td>HEATher WaNG</td>\n",
       "      <td>38</td>\n",
       "      <td>Female</td>\n",
       "      <td>B+</td>\n",
       "      <td>Hypertension</td>\n",
       "      <td>2020-07-13</td>\n",
       "      <td>Joe Jacobs DVM</td>\n",
       "      <td>and Mahoney Johnson Vasquez,</td>\n",
       "      <td>UnitedHealthcare</td>\n",
       "      <td>27620.764717</td>\n",
       "      <td>347</td>\n",
       "      <td>Urgent</td>\n",
       "      <td>2020-08-10</td>\n",
       "      <td>Ibuprofen</td>\n",
       "      <td>Abnormal</td>\n",
       "    </tr>\n",
       "    <tr>\n",
       "      <th>55498</th>\n",
       "      <td>JENniFER JOneS</td>\n",
       "      <td>43</td>\n",
       "      <td>Male</td>\n",
       "      <td>O-</td>\n",
       "      <td>Arthritis</td>\n",
       "      <td>2019-05-25</td>\n",
       "      <td>Kimberly Curry</td>\n",
       "      <td>Jackson Todd and Castro,</td>\n",
       "      <td>Medicare</td>\n",
       "      <td>32451.092358</td>\n",
       "      <td>321</td>\n",
       "      <td>Elective</td>\n",
       "      <td>2019-05-31</td>\n",
       "      <td>Ibuprofen</td>\n",
       "      <td>Abnormal</td>\n",
       "    </tr>\n",
       "    <tr>\n",
       "      <th>55499</th>\n",
       "      <td>jAMES GARCiA</td>\n",
       "      <td>53</td>\n",
       "      <td>Female</td>\n",
       "      <td>O+</td>\n",
       "      <td>Arthritis</td>\n",
       "      <td>2024-04-02</td>\n",
       "      <td>Dennis Warren</td>\n",
       "      <td>Henry Sons and</td>\n",
       "      <td>Aetna</td>\n",
       "      <td>4010.134172</td>\n",
       "      <td>448</td>\n",
       "      <td>Urgent</td>\n",
       "      <td>2024-04-29</td>\n",
       "      <td>Ibuprofen</td>\n",
       "      <td>Abnormal</td>\n",
       "    </tr>\n",
       "  </tbody>\n",
       "</table>\n",
       "<p>55500 rows × 15 columns</p>\n",
       "</div>"
      ],
      "text/plain": [
       "                    Name  Age  Gender Blood Type Medical Condition  \\\n",
       "0          Bobby JacksOn   30    Male         B-            Cancer   \n",
       "1           LesLie TErRy   62    Male         A+           Obesity   \n",
       "2            DaNnY sMitH   76  Female         A-           Obesity   \n",
       "3           andrEw waTtS   28  Female         O+          Diabetes   \n",
       "4          adrIENNE bEll   43  Female        AB+            Cancer   \n",
       "...                  ...  ...     ...        ...               ...   \n",
       "55495  eLIZABeTH jaCkSOn   42  Female         O+            Asthma   \n",
       "55496         KYle pEREz   61  Female        AB-           Obesity   \n",
       "55497       HEATher WaNG   38  Female         B+      Hypertension   \n",
       "55498     JENniFER JOneS   43    Male         O-         Arthritis   \n",
       "55499       jAMES GARCiA   53  Female         O+         Arthritis   \n",
       "\n",
       "      Date of Admission            Doctor                      Hospital  \\\n",
       "0            2024-01-31     Matthew Smith               Sons and Miller   \n",
       "1            2019-08-20   Samantha Davies                       Kim Inc   \n",
       "2            2022-09-22  Tiffany Mitchell                      Cook PLC   \n",
       "3            2020-11-18       Kevin Wells    Hernandez Rogers and Vang,   \n",
       "4            2022-09-19    Kathleen Hanna                   White-White   \n",
       "...                 ...               ...                           ...   \n",
       "55495        2020-08-16     Joshua Jarvis                Jones-Thompson   \n",
       "55496        2020-01-23   Taylor Sullivan                  Tucker-Moyer   \n",
       "55497        2020-07-13    Joe Jacobs DVM  and Mahoney Johnson Vasquez,   \n",
       "55498        2019-05-25    Kimberly Curry      Jackson Todd and Castro,   \n",
       "55499        2024-04-02     Dennis Warren                Henry Sons and   \n",
       "\n",
       "      Insurance Provider  Billing Amount  Room Number Admission Type  \\\n",
       "0             Blue Cross    18856.281306          328         Urgent   \n",
       "1               Medicare    33643.327287          265      Emergency   \n",
       "2                  Aetna    27955.096079          205      Emergency   \n",
       "3               Medicare    37909.782410          450       Elective   \n",
       "4                  Aetna    14238.317814          458         Urgent   \n",
       "...                  ...             ...          ...            ...   \n",
       "55495         Blue Cross     2650.714952          417       Elective   \n",
       "55496              Cigna    31457.797307          316       Elective   \n",
       "55497   UnitedHealthcare    27620.764717          347         Urgent   \n",
       "55498           Medicare    32451.092358          321       Elective   \n",
       "55499              Aetna     4010.134172          448         Urgent   \n",
       "\n",
       "      Discharge Date   Medication  Test Results  \n",
       "0         2024-02-02  Paracetamol        Normal  \n",
       "1         2019-08-26    Ibuprofen  Inconclusive  \n",
       "2         2022-10-07      Aspirin        Normal  \n",
       "3         2020-12-18    Ibuprofen      Abnormal  \n",
       "4         2022-10-09   Penicillin      Abnormal  \n",
       "...              ...          ...           ...  \n",
       "55495     2020-09-15   Penicillin      Abnormal  \n",
       "55496     2020-02-01      Aspirin        Normal  \n",
       "55497     2020-08-10    Ibuprofen      Abnormal  \n",
       "55498     2019-05-31    Ibuprofen      Abnormal  \n",
       "55499     2024-04-29    Ibuprofen      Abnormal  \n",
       "\n",
       "[55500 rows x 15 columns]"
      ]
     },
     "execution_count": 5,
     "metadata": {},
     "output_type": "execute_result"
    }
   ],
   "source": [
    "df = pd.read_csv(r\"C:\\Users\\Surface Pro\\Downloads\\healthcare_dataset.csv\")\n",
    "df                 "
   ]
  },
  {
   "cell_type": "markdown",
   "id": "49c94c40-ab96-4d1f-a772-735ee156ce2c",
   "metadata": {},
   "source": [
    "## 3️⃣ : Dataset Overview"
   ]
  },
  {
   "cell_type": "markdown",
   "id": "d4ef6969-629d-4525-b597-c7d7c5d184ab",
   "metadata": {},
   "source": [
    "#### 3.1  Let's Find Out The Total Number of Rows and Columns\n",
    "           ★ HealthCare Dataset has 55500 Columns and 15 Rows.\n",
    "        "
   ]
  },
  {
   "cell_type": "code",
   "execution_count": 7,
   "id": "1d7cc55f-5a06-4377-9557-a993608ff414",
   "metadata": {},
   "outputs": [
    {
     "data": {
      "text/plain": [
       "(55500, 15)"
      ]
     },
     "execution_count": 7,
     "metadata": {},
     "output_type": "execute_result"
    }
   ],
   "source": [
    "df.shape"
   ]
  },
  {
   "cell_type": "markdown",
   "id": "322fcec5-0df8-4d37-8a1f-3f8580a407d6",
   "metadata": {},
   "source": [
    "### 3.2  Basic Info : Next, Is to find out about Datas in the Health Care Dataset \n"
   ]
  },
  {
   "cell_type": "markdown",
   "id": "7988210a-cfde-49cb-be1f-c690b208d838",
   "metadata": {},
   "source": [
    "####    HealthCare Dataset contains:\n",
    "         ★ 15 columns in total with 55500 entries.\n",
    "         ★ In this, Billing Amount is in float format, Age and Room Number is integer and rest 12 columns are string values."
   ]
  },
  {
   "cell_type": "code",
   "execution_count": 81,
   "id": "cccd468f-9f1a-4af1-8e9d-b44f3072f267",
   "metadata": {},
   "outputs": [
    {
     "name": "stdout",
     "output_type": "stream",
     "text": [
      "<class 'pandas.core.frame.DataFrame'>\n",
      "RangeIndex: 55500 entries, 0 to 55499\n",
      "Data columns (total 15 columns):\n",
      " #   Column              Non-Null Count  Dtype  \n",
      "---  ------              --------------  -----  \n",
      " 0   Name                55500 non-null  object \n",
      " 1   Age                 55500 non-null  int64  \n",
      " 2   Gender              55500 non-null  object \n",
      " 3   Blood Type          55500 non-null  object \n",
      " 4   Medical Condition   55500 non-null  object \n",
      " 5   Date of Admission   55500 non-null  object \n",
      " 6   Doctor              55500 non-null  object \n",
      " 7   Hospital            55500 non-null  object \n",
      " 8   Insurance Provider  55500 non-null  object \n",
      " 9   Billing Amount      55500 non-null  float64\n",
      " 10  Room Number         55500 non-null  int64  \n",
      " 11  Admission Type      55500 non-null  object \n",
      " 12  Discharge Date      55500 non-null  object \n",
      " 13  Medication          55500 non-null  object \n",
      " 14  Test Results        55500 non-null  object \n",
      "dtypes: float64(1), int64(2), object(12)\n",
      "memory usage: 6.4+ MB\n"
     ]
    }
   ],
   "source": [
    "df.info()"
   ]
  },
  {
   "cell_type": "markdown",
   "id": "98ef041c-b90d-406c-a677-40f940640f64",
   "metadata": {},
   "source": [
    "### 3.3 Loads First 5 Rows of HealthCare Dataset"
   ]
  },
  {
   "cell_type": "code",
   "execution_count": 92,
   "id": "203388c0-64a2-47e9-b08c-7ecde0dbf68d",
   "metadata": {},
   "outputs": [
    {
     "data": {
      "text/html": [
       "<div>\n",
       "<style scoped>\n",
       "    .dataframe tbody tr th:only-of-type {\n",
       "        vertical-align: middle;\n",
       "    }\n",
       "\n",
       "    .dataframe tbody tr th {\n",
       "        vertical-align: top;\n",
       "    }\n",
       "\n",
       "    .dataframe thead th {\n",
       "        text-align: right;\n",
       "    }\n",
       "</style>\n",
       "<table border=\"1\" class=\"dataframe\">\n",
       "  <thead>\n",
       "    <tr style=\"text-align: right;\">\n",
       "      <th></th>\n",
       "      <th>Name</th>\n",
       "      <th>Age</th>\n",
       "      <th>Gender</th>\n",
       "      <th>Blood Type</th>\n",
       "      <th>Medical Condition</th>\n",
       "      <th>Date of Admission</th>\n",
       "      <th>Doctor</th>\n",
       "      <th>Hospital</th>\n",
       "      <th>Insurance Provider</th>\n",
       "      <th>Billing Amount</th>\n",
       "      <th>Room Number</th>\n",
       "      <th>Admission Type</th>\n",
       "      <th>Discharge Date</th>\n",
       "      <th>Medication</th>\n",
       "      <th>Test Results</th>\n",
       "    </tr>\n",
       "  </thead>\n",
       "  <tbody>\n",
       "    <tr>\n",
       "      <th>0</th>\n",
       "      <td>Bobby JacksOn</td>\n",
       "      <td>30</td>\n",
       "      <td>Male</td>\n",
       "      <td>B-</td>\n",
       "      <td>Cancer</td>\n",
       "      <td>2024-01-31</td>\n",
       "      <td>Matthew Smith</td>\n",
       "      <td>Sons and Miller</td>\n",
       "      <td>Blue Cross</td>\n",
       "      <td>18856.281306</td>\n",
       "      <td>328</td>\n",
       "      <td>Urgent</td>\n",
       "      <td>2024-02-02</td>\n",
       "      <td>Paracetamol</td>\n",
       "      <td>Normal</td>\n",
       "    </tr>\n",
       "    <tr>\n",
       "      <th>1</th>\n",
       "      <td>LesLie TErRy</td>\n",
       "      <td>62</td>\n",
       "      <td>Male</td>\n",
       "      <td>A+</td>\n",
       "      <td>Obesity</td>\n",
       "      <td>2019-08-20</td>\n",
       "      <td>Samantha Davies</td>\n",
       "      <td>Kim Inc</td>\n",
       "      <td>Medicare</td>\n",
       "      <td>33643.327287</td>\n",
       "      <td>265</td>\n",
       "      <td>Emergency</td>\n",
       "      <td>2019-08-26</td>\n",
       "      <td>Ibuprofen</td>\n",
       "      <td>Inconclusive</td>\n",
       "    </tr>\n",
       "    <tr>\n",
       "      <th>2</th>\n",
       "      <td>DaNnY sMitH</td>\n",
       "      <td>76</td>\n",
       "      <td>Female</td>\n",
       "      <td>A-</td>\n",
       "      <td>Obesity</td>\n",
       "      <td>2022-09-22</td>\n",
       "      <td>Tiffany Mitchell</td>\n",
       "      <td>Cook PLC</td>\n",
       "      <td>Aetna</td>\n",
       "      <td>27955.096079</td>\n",
       "      <td>205</td>\n",
       "      <td>Emergency</td>\n",
       "      <td>2022-10-07</td>\n",
       "      <td>Aspirin</td>\n",
       "      <td>Normal</td>\n",
       "    </tr>\n",
       "    <tr>\n",
       "      <th>3</th>\n",
       "      <td>andrEw waTtS</td>\n",
       "      <td>28</td>\n",
       "      <td>Female</td>\n",
       "      <td>O+</td>\n",
       "      <td>Diabetes</td>\n",
       "      <td>2020-11-18</td>\n",
       "      <td>Kevin Wells</td>\n",
       "      <td>Hernandez Rogers and Vang,</td>\n",
       "      <td>Medicare</td>\n",
       "      <td>37909.782410</td>\n",
       "      <td>450</td>\n",
       "      <td>Elective</td>\n",
       "      <td>2020-12-18</td>\n",
       "      <td>Ibuprofen</td>\n",
       "      <td>Abnormal</td>\n",
       "    </tr>\n",
       "    <tr>\n",
       "      <th>4</th>\n",
       "      <td>adrIENNE bEll</td>\n",
       "      <td>43</td>\n",
       "      <td>Female</td>\n",
       "      <td>AB+</td>\n",
       "      <td>Cancer</td>\n",
       "      <td>2022-09-19</td>\n",
       "      <td>Kathleen Hanna</td>\n",
       "      <td>White-White</td>\n",
       "      <td>Aetna</td>\n",
       "      <td>14238.317814</td>\n",
       "      <td>458</td>\n",
       "      <td>Urgent</td>\n",
       "      <td>2022-10-09</td>\n",
       "      <td>Penicillin</td>\n",
       "      <td>Abnormal</td>\n",
       "    </tr>\n",
       "  </tbody>\n",
       "</table>\n",
       "</div>"
      ],
      "text/plain": [
       "            Name  Age  Gender Blood Type Medical Condition Date of Admission  \\\n",
       "0  Bobby JacksOn   30    Male         B-            Cancer        2024-01-31   \n",
       "1   LesLie TErRy   62    Male         A+           Obesity        2019-08-20   \n",
       "2    DaNnY sMitH   76  Female         A-           Obesity        2022-09-22   \n",
       "3   andrEw waTtS   28  Female         O+          Diabetes        2020-11-18   \n",
       "4  adrIENNE bEll   43  Female        AB+            Cancer        2022-09-19   \n",
       "\n",
       "             Doctor                    Hospital Insurance Provider  \\\n",
       "0     Matthew Smith             Sons and Miller         Blue Cross   \n",
       "1   Samantha Davies                     Kim Inc           Medicare   \n",
       "2  Tiffany Mitchell                    Cook PLC              Aetna   \n",
       "3       Kevin Wells  Hernandez Rogers and Vang,           Medicare   \n",
       "4    Kathleen Hanna                 White-White              Aetna   \n",
       "\n",
       "   Billing Amount  Room Number Admission Type Discharge Date   Medication  \\\n",
       "0    18856.281306          328         Urgent     2024-02-02  Paracetamol   \n",
       "1    33643.327287          265      Emergency     2019-08-26    Ibuprofen   \n",
       "2    27955.096079          205      Emergency     2022-10-07      Aspirin   \n",
       "3    37909.782410          450       Elective     2020-12-18    Ibuprofen   \n",
       "4    14238.317814          458         Urgent     2022-10-09   Penicillin   \n",
       "\n",
       "   Test Results  \n",
       "0        Normal  \n",
       "1  Inconclusive  \n",
       "2        Normal  \n",
       "3      Abnormal  \n",
       "4      Abnormal  "
      ]
     },
     "execution_count": 92,
     "metadata": {},
     "output_type": "execute_result"
    }
   ],
   "source": [
    "df.head()"
   ]
  },
  {
   "cell_type": "markdown",
   "id": "8b506d54-f502-48cf-b3aa-df5c5078719f",
   "metadata": {},
   "source": [
    "### 3.4 Loads Last 5 Rows of HealthCare Dataset"
   ]
  },
  {
   "cell_type": "code",
   "execution_count": 93,
   "id": "ea9d38f5-d104-4ffb-8527-5c9d3b500c05",
   "metadata": {},
   "outputs": [
    {
     "data": {
      "text/html": [
       "<div>\n",
       "<style scoped>\n",
       "    .dataframe tbody tr th:only-of-type {\n",
       "        vertical-align: middle;\n",
       "    }\n",
       "\n",
       "    .dataframe tbody tr th {\n",
       "        vertical-align: top;\n",
       "    }\n",
       "\n",
       "    .dataframe thead th {\n",
       "        text-align: right;\n",
       "    }\n",
       "</style>\n",
       "<table border=\"1\" class=\"dataframe\">\n",
       "  <thead>\n",
       "    <tr style=\"text-align: right;\">\n",
       "      <th></th>\n",
       "      <th>Name</th>\n",
       "      <th>Age</th>\n",
       "      <th>Gender</th>\n",
       "      <th>Blood Type</th>\n",
       "      <th>Medical Condition</th>\n",
       "      <th>Date of Admission</th>\n",
       "      <th>Doctor</th>\n",
       "      <th>Hospital</th>\n",
       "      <th>Insurance Provider</th>\n",
       "      <th>Billing Amount</th>\n",
       "      <th>Room Number</th>\n",
       "      <th>Admission Type</th>\n",
       "      <th>Discharge Date</th>\n",
       "      <th>Medication</th>\n",
       "      <th>Test Results</th>\n",
       "    </tr>\n",
       "  </thead>\n",
       "  <tbody>\n",
       "    <tr>\n",
       "      <th>55495</th>\n",
       "      <td>eLIZABeTH jaCkSOn</td>\n",
       "      <td>42</td>\n",
       "      <td>Female</td>\n",
       "      <td>O+</td>\n",
       "      <td>Asthma</td>\n",
       "      <td>2020-08-16</td>\n",
       "      <td>Joshua Jarvis</td>\n",
       "      <td>Jones-Thompson</td>\n",
       "      <td>Blue Cross</td>\n",
       "      <td>2650.714952</td>\n",
       "      <td>417</td>\n",
       "      <td>Elective</td>\n",
       "      <td>2020-09-15</td>\n",
       "      <td>Penicillin</td>\n",
       "      <td>Abnormal</td>\n",
       "    </tr>\n",
       "    <tr>\n",
       "      <th>55496</th>\n",
       "      <td>KYle pEREz</td>\n",
       "      <td>61</td>\n",
       "      <td>Female</td>\n",
       "      <td>AB-</td>\n",
       "      <td>Obesity</td>\n",
       "      <td>2020-01-23</td>\n",
       "      <td>Taylor Sullivan</td>\n",
       "      <td>Tucker-Moyer</td>\n",
       "      <td>Cigna</td>\n",
       "      <td>31457.797307</td>\n",
       "      <td>316</td>\n",
       "      <td>Elective</td>\n",
       "      <td>2020-02-01</td>\n",
       "      <td>Aspirin</td>\n",
       "      <td>Normal</td>\n",
       "    </tr>\n",
       "    <tr>\n",
       "      <th>55497</th>\n",
       "      <td>HEATher WaNG</td>\n",
       "      <td>38</td>\n",
       "      <td>Female</td>\n",
       "      <td>B+</td>\n",
       "      <td>Hypertension</td>\n",
       "      <td>2020-07-13</td>\n",
       "      <td>Joe Jacobs DVM</td>\n",
       "      <td>and Mahoney Johnson Vasquez,</td>\n",
       "      <td>UnitedHealthcare</td>\n",
       "      <td>27620.764717</td>\n",
       "      <td>347</td>\n",
       "      <td>Urgent</td>\n",
       "      <td>2020-08-10</td>\n",
       "      <td>Ibuprofen</td>\n",
       "      <td>Abnormal</td>\n",
       "    </tr>\n",
       "    <tr>\n",
       "      <th>55498</th>\n",
       "      <td>JENniFER JOneS</td>\n",
       "      <td>43</td>\n",
       "      <td>Male</td>\n",
       "      <td>O-</td>\n",
       "      <td>Arthritis</td>\n",
       "      <td>2019-05-25</td>\n",
       "      <td>Kimberly Curry</td>\n",
       "      <td>Jackson Todd and Castro,</td>\n",
       "      <td>Medicare</td>\n",
       "      <td>32451.092358</td>\n",
       "      <td>321</td>\n",
       "      <td>Elective</td>\n",
       "      <td>2019-05-31</td>\n",
       "      <td>Ibuprofen</td>\n",
       "      <td>Abnormal</td>\n",
       "    </tr>\n",
       "    <tr>\n",
       "      <th>55499</th>\n",
       "      <td>jAMES GARCiA</td>\n",
       "      <td>53</td>\n",
       "      <td>Female</td>\n",
       "      <td>O+</td>\n",
       "      <td>Arthritis</td>\n",
       "      <td>2024-04-02</td>\n",
       "      <td>Dennis Warren</td>\n",
       "      <td>Henry Sons and</td>\n",
       "      <td>Aetna</td>\n",
       "      <td>4010.134172</td>\n",
       "      <td>448</td>\n",
       "      <td>Urgent</td>\n",
       "      <td>2024-04-29</td>\n",
       "      <td>Ibuprofen</td>\n",
       "      <td>Abnormal</td>\n",
       "    </tr>\n",
       "  </tbody>\n",
       "</table>\n",
       "</div>"
      ],
      "text/plain": [
       "                    Name  Age  Gender Blood Type Medical Condition  \\\n",
       "55495  eLIZABeTH jaCkSOn   42  Female         O+            Asthma   \n",
       "55496         KYle pEREz   61  Female        AB-           Obesity   \n",
       "55497       HEATher WaNG   38  Female         B+      Hypertension   \n",
       "55498     JENniFER JOneS   43    Male         O-         Arthritis   \n",
       "55499       jAMES GARCiA   53  Female         O+         Arthritis   \n",
       "\n",
       "      Date of Admission           Doctor                      Hospital  \\\n",
       "55495        2020-08-16    Joshua Jarvis                Jones-Thompson   \n",
       "55496        2020-01-23  Taylor Sullivan                  Tucker-Moyer   \n",
       "55497        2020-07-13   Joe Jacobs DVM  and Mahoney Johnson Vasquez,   \n",
       "55498        2019-05-25   Kimberly Curry      Jackson Todd and Castro,   \n",
       "55499        2024-04-02    Dennis Warren                Henry Sons and   \n",
       "\n",
       "      Insurance Provider  Billing Amount  Room Number Admission Type  \\\n",
       "55495         Blue Cross     2650.714952          417       Elective   \n",
       "55496              Cigna    31457.797307          316       Elective   \n",
       "55497   UnitedHealthcare    27620.764717          347         Urgent   \n",
       "55498           Medicare    32451.092358          321       Elective   \n",
       "55499              Aetna     4010.134172          448         Urgent   \n",
       "\n",
       "      Discharge Date  Medication Test Results  \n",
       "55495     2020-09-15  Penicillin     Abnormal  \n",
       "55496     2020-02-01     Aspirin       Normal  \n",
       "55497     2020-08-10   Ibuprofen     Abnormal  \n",
       "55498     2019-05-31   Ibuprofen     Abnormal  \n",
       "55499     2024-04-29   Ibuprofen     Abnormal  "
      ]
     },
     "execution_count": 93,
     "metadata": {},
     "output_type": "execute_result"
    }
   ],
   "source": [
    "df.tail()"
   ]
  },
  {
   "cell_type": "markdown",
   "id": "42d946d5-6ace-4dc3-ae06-668498a266d9",
   "metadata": {},
   "source": [
    "## 4️⃣ . Statistical Analysis"
   ]
  },
  {
   "cell_type": "markdown",
   "id": "c3aad5f8-60bd-4412-88ae-27c2a9165b57",
   "metadata": {},
   "source": [
    "### 4.1 Summary Statistics for Numerical Variables"
   ]
  },
  {
   "cell_type": "markdown",
   "id": "70a191ad-fa0b-4d30-aead-ad353615ed7d",
   "metadata": {},
   "source": [
    "#### Inorder to have an Statistical Overview of the Numerical Data in HealthCare Dataset\n",
    " * Breif Description:\n",
    "   * Age : Oldest Patient is 89 and the Yongest one is 13 years old.\n",
    "   * Billing Amount : Among the 55500 bills average bill amount is 25539.316097.\n",
    "   * Room Number : This data is not of much relevence as it is Room Number, since its is a numerical value,it came under the list."
   ]
  },
  {
   "cell_type": "code",
   "execution_count": 75,
   "id": "edfd83fd-d8c9-42b0-a2b5-92ba909f73ef",
   "metadata": {},
   "outputs": [
    {
     "data": {
      "text/html": [
       "<div>\n",
       "<style scoped>\n",
       "    .dataframe tbody tr th:only-of-type {\n",
       "        vertical-align: middle;\n",
       "    }\n",
       "\n",
       "    .dataframe tbody tr th {\n",
       "        vertical-align: top;\n",
       "    }\n",
       "\n",
       "    .dataframe thead th {\n",
       "        text-align: right;\n",
       "    }\n",
       "</style>\n",
       "<table border=\"1\" class=\"dataframe\">\n",
       "  <thead>\n",
       "    <tr style=\"text-align: right;\">\n",
       "      <th></th>\n",
       "      <th>Age</th>\n",
       "      <th>Billing Amount</th>\n",
       "      <th>Room Number</th>\n",
       "    </tr>\n",
       "  </thead>\n",
       "  <tbody>\n",
       "    <tr>\n",
       "      <th>count</th>\n",
       "      <td>55500.000000</td>\n",
       "      <td>55500.000000</td>\n",
       "      <td>55500.000000</td>\n",
       "    </tr>\n",
       "    <tr>\n",
       "      <th>mean</th>\n",
       "      <td>51.539459</td>\n",
       "      <td>25539.316097</td>\n",
       "      <td>301.134829</td>\n",
       "    </tr>\n",
       "    <tr>\n",
       "      <th>std</th>\n",
       "      <td>19.602454</td>\n",
       "      <td>14211.454431</td>\n",
       "      <td>115.243069</td>\n",
       "    </tr>\n",
       "    <tr>\n",
       "      <th>min</th>\n",
       "      <td>13.000000</td>\n",
       "      <td>-2008.492140</td>\n",
       "      <td>101.000000</td>\n",
       "    </tr>\n",
       "    <tr>\n",
       "      <th>25%</th>\n",
       "      <td>35.000000</td>\n",
       "      <td>13241.224652</td>\n",
       "      <td>202.000000</td>\n",
       "    </tr>\n",
       "    <tr>\n",
       "      <th>50%</th>\n",
       "      <td>52.000000</td>\n",
       "      <td>25538.069376</td>\n",
       "      <td>302.000000</td>\n",
       "    </tr>\n",
       "    <tr>\n",
       "      <th>75%</th>\n",
       "      <td>68.000000</td>\n",
       "      <td>37820.508436</td>\n",
       "      <td>401.000000</td>\n",
       "    </tr>\n",
       "    <tr>\n",
       "      <th>max</th>\n",
       "      <td>89.000000</td>\n",
       "      <td>52764.276736</td>\n",
       "      <td>500.000000</td>\n",
       "    </tr>\n",
       "  </tbody>\n",
       "</table>\n",
       "</div>"
      ],
      "text/plain": [
       "                Age  Billing Amount   Room Number\n",
       "count  55500.000000    55500.000000  55500.000000\n",
       "mean      51.539459    25539.316097    301.134829\n",
       "std       19.602454    14211.454431    115.243069\n",
       "min       13.000000    -2008.492140    101.000000\n",
       "25%       35.000000    13241.224652    202.000000\n",
       "50%       52.000000    25538.069376    302.000000\n",
       "75%       68.000000    37820.508436    401.000000\n",
       "max       89.000000    52764.276736    500.000000"
      ]
     },
     "execution_count": 75,
     "metadata": {},
     "output_type": "execute_result"
    }
   ],
   "source": [
    "df.describe()"
   ]
  },
  {
   "cell_type": "markdown",
   "id": "2f3b46dd-a295-4292-aede-09928783d0ea",
   "metadata": {},
   "source": [
    "### 4.2  Summary Statistics for Categorical Variables"
   ]
  },
  {
   "cell_type": "markdown",
   "id": "9f1b2b04-809a-477b-9c4b-89d67a60ba6d",
   "metadata": {},
   "source": [
    "#### Summerize Non-Numerical data based on count, uniqueness, maximum appearance and its frequency of apperances."
   ]
  },
  {
   "cell_type": "code",
   "execution_count": 87,
   "id": "9c93910b-9324-4405-914b-46d2370fa93b",
   "metadata": {},
   "outputs": [
    {
     "data": {
      "text/html": [
       "<div>\n",
       "<style scoped>\n",
       "    .dataframe tbody tr th:only-of-type {\n",
       "        vertical-align: middle;\n",
       "    }\n",
       "\n",
       "    .dataframe tbody tr th {\n",
       "        vertical-align: top;\n",
       "    }\n",
       "\n",
       "    .dataframe thead th {\n",
       "        text-align: right;\n",
       "    }\n",
       "</style>\n",
       "<table border=\"1\" class=\"dataframe\">\n",
       "  <thead>\n",
       "    <tr style=\"text-align: right;\">\n",
       "      <th></th>\n",
       "      <th>Name</th>\n",
       "      <th>Gender</th>\n",
       "      <th>Blood Type</th>\n",
       "      <th>Medical Condition</th>\n",
       "      <th>Date of Admission</th>\n",
       "      <th>Doctor</th>\n",
       "      <th>Hospital</th>\n",
       "      <th>Insurance Provider</th>\n",
       "      <th>Admission Type</th>\n",
       "      <th>Discharge Date</th>\n",
       "      <th>Medication</th>\n",
       "      <th>Test Results</th>\n",
       "    </tr>\n",
       "  </thead>\n",
       "  <tbody>\n",
       "    <tr>\n",
       "      <th>count</th>\n",
       "      <td>55500</td>\n",
       "      <td>55500</td>\n",
       "      <td>55500</td>\n",
       "      <td>55500</td>\n",
       "      <td>55500</td>\n",
       "      <td>55500</td>\n",
       "      <td>55500</td>\n",
       "      <td>55500</td>\n",
       "      <td>55500</td>\n",
       "      <td>55500</td>\n",
       "      <td>55500</td>\n",
       "      <td>55500</td>\n",
       "    </tr>\n",
       "    <tr>\n",
       "      <th>unique</th>\n",
       "      <td>49992</td>\n",
       "      <td>2</td>\n",
       "      <td>8</td>\n",
       "      <td>6</td>\n",
       "      <td>1827</td>\n",
       "      <td>40341</td>\n",
       "      <td>39876</td>\n",
       "      <td>5</td>\n",
       "      <td>3</td>\n",
       "      <td>1856</td>\n",
       "      <td>5</td>\n",
       "      <td>3</td>\n",
       "    </tr>\n",
       "    <tr>\n",
       "      <th>top</th>\n",
       "      <td>DAvId muNoZ</td>\n",
       "      <td>Male</td>\n",
       "      <td>A-</td>\n",
       "      <td>Arthritis</td>\n",
       "      <td>2024-03-16</td>\n",
       "      <td>Michael Smith</td>\n",
       "      <td>LLC Smith</td>\n",
       "      <td>Cigna</td>\n",
       "      <td>Elective</td>\n",
       "      <td>2020-03-15</td>\n",
       "      <td>Lipitor</td>\n",
       "      <td>Abnormal</td>\n",
       "    </tr>\n",
       "    <tr>\n",
       "      <th>freq</th>\n",
       "      <td>3</td>\n",
       "      <td>27774</td>\n",
       "      <td>6969</td>\n",
       "      <td>9308</td>\n",
       "      <td>50</td>\n",
       "      <td>27</td>\n",
       "      <td>44</td>\n",
       "      <td>11249</td>\n",
       "      <td>18655</td>\n",
       "      <td>53</td>\n",
       "      <td>11140</td>\n",
       "      <td>18627</td>\n",
       "    </tr>\n",
       "  </tbody>\n",
       "</table>\n",
       "</div>"
      ],
      "text/plain": [
       "               Name Gender Blood Type Medical Condition Date of Admission  \\\n",
       "count         55500  55500      55500             55500             55500   \n",
       "unique        49992      2          8                 6              1827   \n",
       "top     DAvId muNoZ   Male         A-         Arthritis        2024-03-16   \n",
       "freq              3  27774       6969              9308                50   \n",
       "\n",
       "               Doctor   Hospital Insurance Provider Admission Type  \\\n",
       "count           55500      55500              55500          55500   \n",
       "unique          40341      39876                  5              3   \n",
       "top     Michael Smith  LLC Smith              Cigna       Elective   \n",
       "freq               27         44              11249          18655   \n",
       "\n",
       "       Discharge Date Medication Test Results  \n",
       "count           55500      55500        55500  \n",
       "unique           1856          5            3  \n",
       "top        2020-03-15    Lipitor     Abnormal  \n",
       "freq               53      11140        18627  "
      ]
     },
     "execution_count": 87,
     "metadata": {},
     "output_type": "execute_result"
    }
   ],
   "source": [
    "df.describe(include = 'object')"
   ]
  },
  {
   "cell_type": "markdown",
   "id": "0fca29e0-57b7-41e0-8bb8-0e7e20c8a551",
   "metadata": {},
   "source": [
    "## 5️⃣  Analysing Sum of Duplicated Data in HealthCare Dataset"
   ]
  },
  {
   "cell_type": "code",
   "execution_count": 23,
   "id": "fca68e1a-8851-4aeb-908e-05cb38325e37",
   "metadata": {},
   "outputs": [
    {
     "data": {
      "text/plain": [
       "534"
      ]
     },
     "execution_count": 23,
     "metadata": {},
     "output_type": "execute_result"
    }
   ],
   "source": [
    "df.duplicated().sum()"
   ]
  },
  {
   "cell_type": "markdown",
   "id": "20e4b7a3-9697-4148-a989-1546d521b93d",
   "metadata": {},
   "source": [
    "## 6️⃣  Detecting Sum of Empty Cells with no value in HealthCare Dataset"
   ]
  },
  {
   "cell_type": "code",
   "execution_count": 24,
   "id": "959bad8e-f9be-4d0e-ba16-3eed8103c744",
   "metadata": {},
   "outputs": [
    {
     "data": {
      "text/plain": [
       "Name                  0\n",
       "Age                   0\n",
       "Gender                0\n",
       "Blood Type            0\n",
       "Medical Condition     0\n",
       "Date of Admission     0\n",
       "Doctor                0\n",
       "Hospital              0\n",
       "Insurance Provider    0\n",
       "Billing Amount        0\n",
       "Room Number           0\n",
       "Admission Type        0\n",
       "Discharge Date        0\n",
       "Medication            0\n",
       "Test Results          0\n",
       "dtype: int64"
      ]
     },
     "execution_count": 24,
     "metadata": {},
     "output_type": "execute_result"
    }
   ],
   "source": [
    "df.isnull().sum()"
   ]
  },
  {
   "cell_type": "markdown",
   "id": "c6615197-453e-41e7-90d7-c9a4756269e7",
   "metadata": {},
   "source": [
    "## 7️⃣  Finding Unique values in HealthCare Dataset"
   ]
  },
  {
   "cell_type": "markdown",
   "id": "91b6ae28-8430-4fa0-b2c8-5ba2a27ffb4c",
   "metadata": {},
   "source": [
    "### 7.1  Number of Unique value per Column"
   ]
  },
  {
   "cell_type": "code",
   "execution_count": 50,
   "id": "eb4ee8e2-3411-4119-b1a5-b4dfdd2b8175",
   "metadata": {},
   "outputs": [
    {
     "data": {
      "text/plain": [
       "Name                  49992\n",
       "Age                      77\n",
       "Gender                    2\n",
       "Blood Type                8\n",
       "Medical Condition         6\n",
       "Date of Admission      1827\n",
       "Doctor                40341\n",
       "Hospital              39876\n",
       "Insurance Provider        5\n",
       "Billing Amount        50000\n",
       "Room Number             400\n",
       "Admission Type            3\n",
       "Discharge Date         1856\n",
       "Medication                5\n",
       "Test Results              3\n",
       "dtype: int64"
      ]
     },
     "execution_count": 50,
     "metadata": {},
     "output_type": "execute_result"
    }
   ],
   "source": [
    "df.nunique()"
   ]
  },
  {
   "cell_type": "markdown",
   "id": "6622c993-e0a1-4658-ae82-720a28df951f",
   "metadata": {},
   "source": [
    "### 7.2 Unique value per Column"
   ]
  },
  {
   "cell_type": "code",
   "execution_count": 27,
   "id": "a4c98fab-1dad-4eab-beb4-a9bca9c9e668",
   "metadata": {},
   "outputs": [
    {
     "data": {
      "text/plain": [
       "array(['Male', 'Female'], dtype=object)"
      ]
     },
     "execution_count": 27,
     "metadata": {},
     "output_type": "execute_result"
    }
   ],
   "source": [
    "df['Gender'].unique() # Unique Entries in Gender Column"
   ]
  },
  {
   "cell_type": "code",
   "execution_count": 31,
   "id": "7839e149-740e-49f8-9ecd-a9f3cc1d7826",
   "metadata": {},
   "outputs": [
    {
     "data": {
      "text/plain": [
       "array(['B-', 'A+', 'A-', 'O+', 'AB+', 'AB-', 'B+', 'O-'], dtype=object)"
      ]
     },
     "execution_count": 31,
     "metadata": {},
     "output_type": "execute_result"
    }
   ],
   "source": [
    "df['Blood Type'].unique() # Unique Entries in Blood Type Column"
   ]
  },
  {
   "cell_type": "code",
   "execution_count": 58,
   "id": "803b6470-11cd-444e-b1d5-2f9ed8980037",
   "metadata": {},
   "outputs": [
    {
     "data": {
      "text/plain": [
       "array(['Cancer', 'Obesity', 'Diabetes', 'Asthma', 'Hypertension',\n",
       "       'Arthritis'], dtype=object)"
      ]
     },
     "execution_count": 58,
     "metadata": {},
     "output_type": "execute_result"
    }
   ],
   "source": [
    "df['Medical Condition'].unique() # Unique Entries in Gender Column"
   ]
  },
  {
   "cell_type": "code",
   "execution_count": 97,
   "id": "eec09795-8d3b-4ee7-b199-c495a002559b",
   "metadata": {},
   "outputs": [
    {
     "data": {
      "text/plain": [
       "array(['Matthew Smith', 'Samantha Davies', 'Tiffany Mitchell', ...,\n",
       "       'Deborah Sutton', 'Mary Bartlett', 'Alec May'], dtype=object)"
      ]
     },
     "execution_count": 97,
     "metadata": {},
     "output_type": "execute_result"
    }
   ],
   "source": [
    "df['Doctor'].unique()  # Unique Entries in Doctor's Column"
   ]
  },
  {
   "cell_type": "code",
   "execution_count": 98,
   "id": "de2c2f84-c8ed-4f45-a337-3038218f7911",
   "metadata": {},
   "outputs": [
    {
     "data": {
      "text/plain": [
       "array(['Sons and Miller', 'Kim Inc', 'Cook PLC', ...,\n",
       "       'Guzman Jones and Graves,', 'and Williams, Brown Mckenzie',\n",
       "       'Moreno Murphy, Griffith and'], dtype=object)"
      ]
     },
     "execution_count": 98,
     "metadata": {},
     "output_type": "execute_result"
    }
   ],
   "source": [
    "df['Hospital'].unique()     # Unique Entries in Hosptal in Column"
   ]
  },
  {
   "cell_type": "code",
   "execution_count": 59,
   "id": "c164df16-f387-459c-944d-9da4f85edadb",
   "metadata": {},
   "outputs": [
    {
     "data": {
      "text/plain": [
       "array(['Blue Cross', 'Medicare', 'Aetna', 'UnitedHealthcare', 'Cigna'],\n",
       "      dtype=object)"
      ]
     },
     "execution_count": 59,
     "metadata": {},
     "output_type": "execute_result"
    }
   ],
   "source": [
    "df['Insurance Provider'].unique()    # Unique Entries in Insurance Provider Column"
   ]
  },
  {
   "cell_type": "code",
   "execution_count": 99,
   "id": "7a910d32-30ee-4277-8530-b73109278ca2",
   "metadata": {},
   "outputs": [
    {
     "data": {
      "text/plain": [
       "array([328, 265, 205, 450, 458, 389, 277, 316, 249, 394, 288, 134, 309,\n",
       "       182, 465, 114, 449, 260, 115, 295, 327, 119, 109, 162, 401, 157,\n",
       "       223, 293, 371, 108, 245, 494, 285, 228, 481, 212, 113, 272, 478,\n",
       "       196, 418, 410, 300, 211, 413, 138, 456, 234, 492, 180, 250, 296,\n",
       "       330, 405, 306, 333, 244, 325, 378, 468, 368, 263, 489, 241, 231,\n",
       "       377, 407, 135, 131, 102, 255, 422, 320, 273, 395, 152, 321, 428,\n",
       "       482, 268, 120, 318, 144, 226, 459, 208, 227, 402, 442, 425, 373,\n",
       "       290, 361, 251, 440, 414, 424, 307, 476, 388, 326, 178, 177, 302,\n",
       "       130, 430, 133, 104, 408, 376, 331, 275, 480, 233, 384, 380, 310,\n",
       "       406, 213, 427, 500, 451, 485, 267, 154, 466, 453, 261, 167, 179,\n",
       "       490, 258, 483, 202, 198, 308, 278, 103, 400, 192, 128, 238, 136,\n",
       "       218, 348, 486, 147, 126, 314, 271, 341, 498, 168, 189, 438, 286,\n",
       "       266, 392, 156, 315, 322, 184, 472, 398, 435, 174, 137, 111, 464,\n",
       "       117, 493, 183, 471, 164, 356, 497, 421, 488, 317, 247, 158, 242,\n",
       "       151, 221, 359, 370, 141, 343, 319, 121, 166, 397, 186, 299, 101,\n",
       "       142, 181, 282, 350, 262, 210, 391, 195, 214, 409, 279, 243, 106,\n",
       "       467, 176, 287, 124, 352, 165, 347, 354, 225, 357, 140, 404, 426,\n",
       "       236, 194, 188, 415, 185, 358, 390, 112, 283, 439, 123, 469, 230,\n",
       "       171, 484, 256, 365, 452, 172, 197, 110, 437, 419, 416, 461, 431,\n",
       "       105, 313, 385, 116, 386, 175, 270, 338, 360, 252, 215, 434, 374,\n",
       "       217, 366, 118, 387, 237, 355, 364, 169, 301, 463, 382, 232, 455,\n",
       "       462, 393, 423, 264, 289, 342, 292, 146, 193, 148, 441, 199, 216,\n",
       "       132, 475, 436, 403, 433, 206, 207, 375, 159, 304, 349, 396, 445,\n",
       "       276, 298, 129, 209, 420, 324, 443, 254, 470, 346, 496, 448, 280,\n",
       "       335, 411, 200, 312, 305, 345, 145, 203, 362, 454, 191, 339, 477,\n",
       "       219, 412, 379, 340, 170, 190, 363, 491, 487, 334, 125, 332, 224,\n",
       "       204, 323, 248, 297, 311, 201, 143, 107, 303, 329, 122, 337, 457,\n",
       "       274, 246, 294, 161, 336, 383, 187, 229, 291, 155, 173, 353, 281,\n",
       "       446, 399, 479, 429, 150, 253, 149, 369, 220, 127, 153, 474, 372,\n",
       "       381, 473, 351, 259, 257, 367, 222, 460, 447, 495, 344, 163, 139,\n",
       "       444, 284, 499, 432, 269, 160, 240, 239, 417, 235], dtype=int64)"
      ]
     },
     "execution_count": 99,
     "metadata": {},
     "output_type": "execute_result"
    }
   ],
   "source": [
    "df['Room Number'].unique()   # Unique Entries in Room Number Column"
   ]
  },
  {
   "cell_type": "code",
   "execution_count": 40,
   "id": "2a104723-5235-479b-b8d5-482fecf8ab79",
   "metadata": {},
   "outputs": [
    {
     "data": {
      "text/plain": [
       "array(['Urgent', 'Emergency', 'Elective'], dtype=object)"
      ]
     },
     "execution_count": 40,
     "metadata": {},
     "output_type": "execute_result"
    }
   ],
   "source": [
    "df['Admission Type'].unique()    # Unique Entries in Admission Type Column"
   ]
  },
  {
   "cell_type": "code",
   "execution_count": 35,
   "id": "bbb14418-3b73-4ec3-8057-4f77d4c86c04",
   "metadata": {},
   "outputs": [
    {
     "data": {
      "text/plain": [
       "array(['Paracetamol', 'Ibuprofen', 'Aspirin', 'Penicillin', 'Lipitor'],\n",
       "      dtype=object)"
      ]
     },
     "execution_count": 35,
     "metadata": {},
     "output_type": "execute_result"
    }
   ],
   "source": [
    "df['Medication'].unique()      # Unique Entries in Medication Column"
   ]
  },
  {
   "cell_type": "code",
   "execution_count": 56,
   "id": "7a71b042-c334-453f-9e79-6446a179f73a",
   "metadata": {},
   "outputs": [
    {
     "data": {
      "text/plain": [
       "array(['Normal', 'Inconclusive', 'Abnormal'], dtype=object)"
      ]
     },
     "execution_count": 56,
     "metadata": {},
     "output_type": "execute_result"
    }
   ],
   "source": [
    "df['Test Results'].unique()     # Unique Entries in Test Result Column"
   ]
  },
  {
   "cell_type": "code",
   "execution_count": null,
   "id": "f4ca5dec-310b-4e6a-9191-913c8a3d9525",
   "metadata": {},
   "outputs": [],
   "source": []
  }
 ],
 "metadata": {
  "kernelspec": {
   "display_name": "Python 3 (ipykernel)",
   "language": "python",
   "name": "python3"
  },
  "language_info": {
   "codemirror_mode": {
    "name": "ipython",
    "version": 3
   },
   "file_extension": ".py",
   "mimetype": "text/x-python",
   "name": "python",
   "nbconvert_exporter": "python",
   "pygments_lexer": "ipython3",
   "version": "3.12.7"
  }
 },
 "nbformat": 4,
 "nbformat_minor": 5
}
